{
 "cells": [
  {
   "cell_type": "code",
   "execution_count": 19,
   "id": "745ef7a0",
   "metadata": {},
   "outputs": [],
   "source": [
    "import pandas as pd \n",
    "import numpy as np \n",
    "import pickle\n",
    "from gensim.models import word2vec"
   ]
  },
  {
   "cell_type": "code",
   "execution_count": 23,
   "id": "32192d90",
   "metadata": {},
   "outputs": [
    {
     "name": "stderr",
     "output_type": "stream",
     "text": [
      "<>:1: SyntaxWarning: invalid escape sequence '\\W'\n",
      "<>:1: SyntaxWarning: invalid escape sequence '\\W'\n",
      "C:\\Users\\HP\\AppData\\Local\\Temp\\ipykernel_17312\\538867739.py:1: SyntaxWarning: invalid escape sequence '\\W'\n",
      "  df=pd.read_csv('D:\\Work\\Projects\\drug_recommender\\src\\Data\\cleaned_training_data.csv')\n"
     ]
    }
   ],
   "source": [
    "df=pd.read_csv('D:\\Work\\Projects\\drug_recommender\\src\\Data\\cleaned_training_data.csv')"
   ]
  },
  {
   "cell_type": "code",
   "execution_count": 21,
   "id": "7f6a9ea5",
   "metadata": {},
   "outputs": [
    {
     "data": {
      "text/html": [
       "<div>\n",
       "<style scoped>\n",
       "    .dataframe tbody tr th:only-of-type {\n",
       "        vertical-align: middle;\n",
       "    }\n",
       "\n",
       "    .dataframe tbody tr th {\n",
       "        vertical-align: top;\n",
       "    }\n",
       "\n",
       "    .dataframe thead th {\n",
       "        text-align: right;\n",
       "    }\n",
       "</style>\n",
       "<table border=\"1\" class=\"dataframe\">\n",
       "  <thead>\n",
       "    <tr style=\"text-align: right;\">\n",
       "      <th></th>\n",
       "      <th>Unnamed: 0.1</th>\n",
       "      <th>Unnamed: 0</th>\n",
       "      <th>drug_name</th>\n",
       "      <th>side_effects</th>\n",
       "      <th>processed effect</th>\n",
       "    </tr>\n",
       "  </thead>\n",
       "  <tbody>\n",
       "  </tbody>\n",
       "</table>\n",
       "</div>"
      ],
      "text/plain": [
       "Empty DataFrame\n",
       "Columns: [Unnamed: 0.1, Unnamed: 0, drug_name, side_effects, processed effect]\n",
       "Index: []"
      ]
     },
     "execution_count": 21,
     "metadata": {},
     "output_type": "execute_result"
    }
   ],
   "source": [
    "df[df['processed effect']==np.nan]"
   ]
  },
  {
   "cell_type": "code",
   "execution_count": 22,
   "id": "c3cc9251",
   "metadata": {},
   "outputs": [
    {
     "ename": "KeyboardInterrupt",
     "evalue": "",
     "output_type": "error",
     "traceback": [
      "\u001b[1;31m---------------------------------------------------------------------------\u001b[0m",
      "\u001b[1;31mKeyboardInterrupt\u001b[0m                         Traceback (most recent call last)",
      "Cell \u001b[1;32mIn[22], line 3\u001b[0m\n\u001b[0;32m      1\u001b[0m \u001b[38;5;28;01mfrom\u001b[39;00m \u001b[38;5;21;01mgensim\u001b[39;00m\u001b[38;5;21;01m.\u001b[39;00m\u001b[38;5;21;01mmodels\u001b[39;00m \u001b[38;5;28;01mimport\u001b[39;00m keyedvectors\n\u001b[0;32m      2\u001b[0m path \u001b[38;5;241m=\u001b[39m \u001b[38;5;124m\"\u001b[39m\u001b[38;5;124mD:/Work/NLP_&_ML/NLP_&_DL/GoogleNews-vectors-negative300.bin\u001b[39m\u001b[38;5;124m\"\u001b[39m\n\u001b[1;32m----> 3\u001b[0m wv\u001b[38;5;241m=\u001b[39m\u001b[43mkeyedvectors\u001b[49m\u001b[38;5;241;43m.\u001b[39;49m\u001b[43mload_word2vec_format\u001b[49m\u001b[43m(\u001b[49m\u001b[43mpath\u001b[49m\u001b[43m,\u001b[49m\u001b[43mbinary\u001b[49m\u001b[38;5;241;43m=\u001b[39;49m\u001b[38;5;28;43;01mTrue\u001b[39;49;00m\u001b[43m)\u001b[49m\n",
      "File \u001b[1;32md:\\Work\\Projects\\drug_recommender\\denv\\Lib\\site-packages\\gensim\\models\\keyedvectors.py:2088\u001b[0m, in \u001b[0;36mload_word2vec_format\u001b[1;34m(*args, **kwargs)\u001b[0m\n\u001b[0;32m   2086\u001b[0m \u001b[38;5;28;01mdef\u001b[39;00m \u001b[38;5;21mload_word2vec_format\u001b[39m(\u001b[38;5;241m*\u001b[39margs, \u001b[38;5;241m*\u001b[39m\u001b[38;5;241m*\u001b[39mkwargs):\n\u001b[0;32m   2087\u001b[0m \u001b[38;5;250m    \u001b[39m\u001b[38;5;124;03m\"\"\"Alias for :meth:`~gensim.models.keyedvectors.KeyedVectors.load_word2vec_format`.\"\"\"\u001b[39;00m\n\u001b[1;32m-> 2088\u001b[0m     \u001b[38;5;28;01mreturn\u001b[39;00m \u001b[43mKeyedVectors\u001b[49m\u001b[38;5;241;43m.\u001b[39;49m\u001b[43mload_word2vec_format\u001b[49m\u001b[43m(\u001b[49m\u001b[38;5;241;43m*\u001b[39;49m\u001b[43margs\u001b[49m\u001b[43m,\u001b[49m\u001b[43m \u001b[49m\u001b[38;5;241;43m*\u001b[39;49m\u001b[38;5;241;43m*\u001b[39;49m\u001b[43mkwargs\u001b[49m\u001b[43m)\u001b[49m\n",
      "File \u001b[1;32md:\\Work\\Projects\\drug_recommender\\denv\\Lib\\site-packages\\gensim\\models\\keyedvectors.py:1719\u001b[0m, in \u001b[0;36mKeyedVectors.load_word2vec_format\u001b[1;34m(cls, fname, fvocab, binary, encoding, unicode_errors, limit, datatype, no_header)\u001b[0m\n\u001b[0;32m   1672\u001b[0m \u001b[38;5;129m@classmethod\u001b[39m\n\u001b[0;32m   1673\u001b[0m \u001b[38;5;28;01mdef\u001b[39;00m \u001b[38;5;21mload_word2vec_format\u001b[39m(\n\u001b[0;32m   1674\u001b[0m         \u001b[38;5;28mcls\u001b[39m, fname, fvocab\u001b[38;5;241m=\u001b[39m\u001b[38;5;28;01mNone\u001b[39;00m, binary\u001b[38;5;241m=\u001b[39m\u001b[38;5;28;01mFalse\u001b[39;00m, encoding\u001b[38;5;241m=\u001b[39m\u001b[38;5;124m'\u001b[39m\u001b[38;5;124mutf8\u001b[39m\u001b[38;5;124m'\u001b[39m, unicode_errors\u001b[38;5;241m=\u001b[39m\u001b[38;5;124m'\u001b[39m\u001b[38;5;124mstrict\u001b[39m\u001b[38;5;124m'\u001b[39m,\n\u001b[0;32m   1675\u001b[0m         limit\u001b[38;5;241m=\u001b[39m\u001b[38;5;28;01mNone\u001b[39;00m, datatype\u001b[38;5;241m=\u001b[39mREAL, no_header\u001b[38;5;241m=\u001b[39m\u001b[38;5;28;01mFalse\u001b[39;00m,\n\u001b[0;32m   1676\u001b[0m     ):\n\u001b[0;32m   1677\u001b[0m \u001b[38;5;250m    \u001b[39m\u001b[38;5;124;03m\"\"\"Load KeyedVectors from a file produced by the original C word2vec-tool format.\u001b[39;00m\n\u001b[0;32m   1678\u001b[0m \n\u001b[0;32m   1679\u001b[0m \u001b[38;5;124;03m    Warnings\u001b[39;00m\n\u001b[1;32m   (...)\u001b[0m\n\u001b[0;32m   1717\u001b[0m \n\u001b[0;32m   1718\u001b[0m \u001b[38;5;124;03m    \"\"\"\u001b[39;00m\n\u001b[1;32m-> 1719\u001b[0m     \u001b[38;5;28;01mreturn\u001b[39;00m \u001b[43m_load_word2vec_format\u001b[49m\u001b[43m(\u001b[49m\n\u001b[0;32m   1720\u001b[0m \u001b[43m        \u001b[49m\u001b[38;5;28;43mcls\u001b[39;49m\u001b[43m,\u001b[49m\u001b[43m \u001b[49m\u001b[43mfname\u001b[49m\u001b[43m,\u001b[49m\u001b[43m \u001b[49m\u001b[43mfvocab\u001b[49m\u001b[38;5;241;43m=\u001b[39;49m\u001b[43mfvocab\u001b[49m\u001b[43m,\u001b[49m\u001b[43m \u001b[49m\u001b[43mbinary\u001b[49m\u001b[38;5;241;43m=\u001b[39;49m\u001b[43mbinary\u001b[49m\u001b[43m,\u001b[49m\u001b[43m \u001b[49m\u001b[43mencoding\u001b[49m\u001b[38;5;241;43m=\u001b[39;49m\u001b[43mencoding\u001b[49m\u001b[43m,\u001b[49m\u001b[43m \u001b[49m\u001b[43municode_errors\u001b[49m\u001b[38;5;241;43m=\u001b[39;49m\u001b[43municode_errors\u001b[49m\u001b[43m,\u001b[49m\n\u001b[0;32m   1721\u001b[0m \u001b[43m        \u001b[49m\u001b[43mlimit\u001b[49m\u001b[38;5;241;43m=\u001b[39;49m\u001b[43mlimit\u001b[49m\u001b[43m,\u001b[49m\u001b[43m \u001b[49m\u001b[43mdatatype\u001b[49m\u001b[38;5;241;43m=\u001b[39;49m\u001b[43mdatatype\u001b[49m\u001b[43m,\u001b[49m\u001b[43m \u001b[49m\u001b[43mno_header\u001b[49m\u001b[38;5;241;43m=\u001b[39;49m\u001b[43mno_header\u001b[49m\u001b[43m,\u001b[49m\n\u001b[0;32m   1722\u001b[0m \u001b[43m    \u001b[49m\u001b[43m)\u001b[49m\n",
      "File \u001b[1;32md:\\Work\\Projects\\drug_recommender\\denv\\Lib\\site-packages\\gensim\\models\\keyedvectors.py:2065\u001b[0m, in \u001b[0;36m_load_word2vec_format\u001b[1;34m(cls, fname, fvocab, binary, encoding, unicode_errors, limit, datatype, no_header, binary_chunk_size)\u001b[0m\n\u001b[0;32m   2062\u001b[0m kv \u001b[38;5;241m=\u001b[39m \u001b[38;5;28mcls\u001b[39m(vector_size, vocab_size, dtype\u001b[38;5;241m=\u001b[39mdatatype)\n\u001b[0;32m   2064\u001b[0m \u001b[38;5;28;01mif\u001b[39;00m binary:\n\u001b[1;32m-> 2065\u001b[0m     \u001b[43m_word2vec_read_binary\u001b[49m\u001b[43m(\u001b[49m\n\u001b[0;32m   2066\u001b[0m \u001b[43m        \u001b[49m\u001b[43mfin\u001b[49m\u001b[43m,\u001b[49m\u001b[43m \u001b[49m\u001b[43mkv\u001b[49m\u001b[43m,\u001b[49m\u001b[43m \u001b[49m\u001b[43mcounts\u001b[49m\u001b[43m,\u001b[49m\u001b[43m \u001b[49m\u001b[43mvocab_size\u001b[49m\u001b[43m,\u001b[49m\u001b[43m \u001b[49m\u001b[43mvector_size\u001b[49m\u001b[43m,\u001b[49m\u001b[43m \u001b[49m\u001b[43mdatatype\u001b[49m\u001b[43m,\u001b[49m\u001b[43m \u001b[49m\u001b[43municode_errors\u001b[49m\u001b[43m,\u001b[49m\u001b[43m \u001b[49m\u001b[43mbinary_chunk_size\u001b[49m\u001b[43m,\u001b[49m\u001b[43m \u001b[49m\u001b[43mencoding\u001b[49m\n\u001b[0;32m   2067\u001b[0m \u001b[43m    \u001b[49m\u001b[43m)\u001b[49m\n\u001b[0;32m   2068\u001b[0m \u001b[38;5;28;01melse\u001b[39;00m:\n\u001b[0;32m   2069\u001b[0m     _word2vec_read_text(fin, kv, counts, vocab_size, vector_size, datatype, unicode_errors, encoding)\n",
      "File \u001b[1;32md:\\Work\\Projects\\drug_recommender\\denv\\Lib\\site-packages\\gensim\\models\\keyedvectors.py:1960\u001b[0m, in \u001b[0;36m_word2vec_read_binary\u001b[1;34m(fin, kv, counts, vocab_size, vector_size, datatype, unicode_errors, binary_chunk_size, encoding)\u001b[0m\n\u001b[0;32m   1958\u001b[0m new_chunk \u001b[38;5;241m=\u001b[39m fin\u001b[38;5;241m.\u001b[39mread(binary_chunk_size)\n\u001b[0;32m   1959\u001b[0m chunk \u001b[38;5;241m+\u001b[39m\u001b[38;5;241m=\u001b[39m new_chunk\n\u001b[1;32m-> 1960\u001b[0m processed_words, chunk \u001b[38;5;241m=\u001b[39m \u001b[43m_add_bytes_to_kv\u001b[49m\u001b[43m(\u001b[49m\n\u001b[0;32m   1961\u001b[0m \u001b[43m    \u001b[49m\u001b[43mkv\u001b[49m\u001b[43m,\u001b[49m\u001b[43m \u001b[49m\u001b[43mcounts\u001b[49m\u001b[43m,\u001b[49m\u001b[43m \u001b[49m\u001b[43mchunk\u001b[49m\u001b[43m,\u001b[49m\u001b[43m \u001b[49m\u001b[43mvocab_size\u001b[49m\u001b[43m,\u001b[49m\u001b[43m \u001b[49m\u001b[43mvector_size\u001b[49m\u001b[43m,\u001b[49m\u001b[43m \u001b[49m\u001b[43mdatatype\u001b[49m\u001b[43m,\u001b[49m\u001b[43m \u001b[49m\u001b[43municode_errors\u001b[49m\u001b[43m,\u001b[49m\u001b[43m \u001b[49m\u001b[43mencoding\u001b[49m\u001b[43m)\u001b[49m\n\u001b[0;32m   1962\u001b[0m tot_processed_words \u001b[38;5;241m+\u001b[39m\u001b[38;5;241m=\u001b[39m processed_words\n\u001b[0;32m   1963\u001b[0m \u001b[38;5;28;01mif\u001b[39;00m \u001b[38;5;28mlen\u001b[39m(new_chunk) \u001b[38;5;241m<\u001b[39m binary_chunk_size:\n",
      "File \u001b[1;32md:\\Work\\Projects\\drug_recommender\\denv\\Lib\\site-packages\\gensim\\models\\keyedvectors.py:1943\u001b[0m, in \u001b[0;36m_add_bytes_to_kv\u001b[1;34m(kv, counts, chunk, vocab_size, vector_size, datatype, unicode_errors, encoding)\u001b[0m\n\u001b[0;32m   1941\u001b[0m word \u001b[38;5;241m=\u001b[39m word\u001b[38;5;241m.\u001b[39mlstrip(\u001b[38;5;124m'\u001b[39m\u001b[38;5;130;01m\\n\u001b[39;00m\u001b[38;5;124m'\u001b[39m)\n\u001b[0;32m   1942\u001b[0m vector \u001b[38;5;241m=\u001b[39m frombuffer(chunk, offset\u001b[38;5;241m=\u001b[39mi_vector, count\u001b[38;5;241m=\u001b[39mvector_size, dtype\u001b[38;5;241m=\u001b[39mREAL)\u001b[38;5;241m.\u001b[39mastype(datatype)\n\u001b[1;32m-> 1943\u001b[0m \u001b[43m_add_word_to_kv\u001b[49m\u001b[43m(\u001b[49m\u001b[43mkv\u001b[49m\u001b[43m,\u001b[49m\u001b[43m \u001b[49m\u001b[43mcounts\u001b[49m\u001b[43m,\u001b[49m\u001b[43m \u001b[49m\u001b[43mword\u001b[49m\u001b[43m,\u001b[49m\u001b[43m \u001b[49m\u001b[43mvector\u001b[49m\u001b[43m,\u001b[49m\u001b[43m \u001b[49m\u001b[43mvocab_size\u001b[49m\u001b[43m)\u001b[49m\n\u001b[0;32m   1944\u001b[0m start \u001b[38;5;241m=\u001b[39m i_vector \u001b[38;5;241m+\u001b[39m bytes_per_vector\n\u001b[0;32m   1945\u001b[0m processed_words \u001b[38;5;241m+\u001b[39m\u001b[38;5;241m=\u001b[39m \u001b[38;5;241m1\u001b[39m\n",
      "File \u001b[1;32md:\\Work\\Projects\\drug_recommender\\denv\\Lib\\site-packages\\gensim\\models\\keyedvectors.py:1923\u001b[0m, in \u001b[0;36m_add_word_to_kv\u001b[1;34m(kv, counts, word, weights, vocab_size)\u001b[0m\n\u001b[0;32m   1921\u001b[0m     logger\u001b[38;5;241m.\u001b[39mwarning(\u001b[38;5;124m\"\u001b[39m\u001b[38;5;124mvocabulary file is incomplete: \u001b[39m\u001b[38;5;124m'\u001b[39m\u001b[38;5;132;01m%s\u001b[39;00m\u001b[38;5;124m'\u001b[39m\u001b[38;5;124m is missing\u001b[39m\u001b[38;5;124m\"\u001b[39m, word)\n\u001b[0;32m   1922\u001b[0m     word_count \u001b[38;5;241m=\u001b[39m \u001b[38;5;28;01mNone\u001b[39;00m\n\u001b[1;32m-> 1923\u001b[0m \u001b[43mkv\u001b[49m\u001b[38;5;241;43m.\u001b[39;49m\u001b[43mset_vecattr\u001b[49m\u001b[43m(\u001b[49m\u001b[43mword\u001b[49m\u001b[43m,\u001b[49m\u001b[43m \u001b[49m\u001b[38;5;124;43m'\u001b[39;49m\u001b[38;5;124;43mcount\u001b[39;49m\u001b[38;5;124;43m'\u001b[39;49m\u001b[43m,\u001b[49m\u001b[43m \u001b[49m\u001b[43mword_count\u001b[49m\u001b[43m)\u001b[49m\n",
      "File \u001b[1;32md:\\Work\\Projects\\drug_recommender\\denv\\Lib\\site-packages\\gensim\\models\\keyedvectors.py:334\u001b[0m, in \u001b[0;36mKeyedVectors.set_vecattr\u001b[1;34m(self, key, attr, val)\u001b[0m\n\u001b[0;32m    331\u001b[0m         \u001b[38;5;28mself\u001b[39m\u001b[38;5;241m.\u001b[39mexpandos[attr] \u001b[38;5;241m=\u001b[39m np\u001b[38;5;241m.\u001b[39mzeros(target_size, dtype\u001b[38;5;241m=\u001b[39mprev_expando\u001b[38;5;241m.\u001b[39mdtype)\n\u001b[0;32m    332\u001b[0m         \u001b[38;5;28mself\u001b[39m\u001b[38;5;241m.\u001b[39mexpandos[attr][: \u001b[38;5;28mmin\u001b[39m(prev_count, target_size), ] \u001b[38;5;241m=\u001b[39m prev_expando[: \u001b[38;5;28mmin\u001b[39m(prev_count, target_size), ]\n\u001b[1;32m--> 334\u001b[0m \u001b[38;5;28;01mdef\u001b[39;00m \u001b[38;5;21mset_vecattr\u001b[39m(\u001b[38;5;28mself\u001b[39m, key, attr, val):\n\u001b[0;32m    335\u001b[0m \u001b[38;5;250m    \u001b[39m\u001b[38;5;124;03m\"\"\"Set attribute associated with the given key to value.\u001b[39;00m\n\u001b[0;32m    336\u001b[0m \n\u001b[0;32m    337\u001b[0m \u001b[38;5;124;03m    Parameters\u001b[39;00m\n\u001b[1;32m   (...)\u001b[0m\n\u001b[0;32m    351\u001b[0m \n\u001b[0;32m    352\u001b[0m \u001b[38;5;124;03m    \"\"\"\u001b[39;00m\n\u001b[0;32m    353\u001b[0m     \u001b[38;5;28mself\u001b[39m\u001b[38;5;241m.\u001b[39mallocate_vecattrs(attrs\u001b[38;5;241m=\u001b[39m[attr], types\u001b[38;5;241m=\u001b[39m[\u001b[38;5;28mtype\u001b[39m(val)])\n",
      "\u001b[1;31mKeyboardInterrupt\u001b[0m: "
     ]
    }
   ],
   "source": [
    "from gensim.models import keyedvectors\n",
    "path = \"D:/Work/NLP_&_ML/NLP_&_DL/GoogleNews-vectors-negative300.bin\"\n",
    "wv=keyedvectors.load_word2vec_format(path,binary=True)"
   ]
  },
  {
   "cell_type": "code",
   "execution_count": null,
   "id": "fa6e3e1b",
   "metadata": {},
   "outputs": [],
   "source": [
    "def words_to_vectors(text,model):\n",
    "    for i in text:\n",
    "        words=i.lower().split()\n",
    "        vectors = [model[word] for word in words if word in model]\n",
    "        if vectors : \n",
    "            return np.mean(vectors,axis=0)\n",
    "        else : \n",
    "            return np.zeros(model.vector_size)"
   ]
  },
  {
   "cell_type": "code",
   "execution_count": null,
   "id": "56582a9e",
   "metadata": {},
   "outputs": [],
   "source": [
    "df['processed effect']=df['processed effect'].astype('str')"
   ]
  },
  {
   "cell_type": "code",
   "execution_count": null,
   "id": "f3234e4e",
   "metadata": {},
   "outputs": [],
   "source": [
    "# from utils.helper import words_to_vectors\n",
    "x=np.array([words_to_vectors(text,wv) for text in df['processed effect']])\n",
    "y=np.array(df['drug_name'])"
   ]
  },
  {
   "cell_type": "code",
   "execution_count": null,
   "id": "1cd8187e",
   "metadata": {},
   "outputs": [
    {
     "name": "stdout",
     "output_type": "stream",
     "text": [
      "(2807, 300)\n",
      "(2807,)\n"
     ]
    }
   ],
   "source": [
    "print(x.shape)\n",
    "print(y.shape)"
   ]
  },
  {
   "cell_type": "code",
   "execution_count": null,
   "id": "46ce8537",
   "metadata": {},
   "outputs": [],
   "source": [
    "from sklearn.metrics.pairwise import cosine_similarity\n",
    "similarity=cosine_similarity(x)"
   ]
  },
  {
   "cell_type": "code",
   "execution_count": null,
   "id": "cdb0c15f",
   "metadata": {},
   "outputs": [
    {
     "data": {
      "text/plain": [
       "array([1.        , 1.        , 0.27249493, ..., 1.        , 0.59470954,\n",
       "       1.        ])"
      ]
     },
     "execution_count": 10,
     "metadata": {},
     "output_type": "execute_result"
    }
   ],
   "source": [
    "similarity[0]"
   ]
  },
  {
   "cell_type": "code",
   "execution_count": null,
   "id": "aa09fd45",
   "metadata": {},
   "outputs": [],
   "source": [
    "# with open('similarity.pkl','wb') as file : \n",
    "#     pickle.dump(similarity,file)"
   ]
  },
  {
   "cell_type": "code",
   "execution_count": 28,
   "id": "bb8b7fd6",
   "metadata": {},
   "outputs": [],
   "source": [
    "l=[len(i) for i in df['drug_name'].astype('str')]"
   ]
  },
  {
   "cell_type": "markdown",
   "id": "be069abb",
   "metadata": {},
   "source": [
    "### Training Prediction Model\n",
    "training from dataset "
   ]
  },
  {
   "cell_type": "code",
   "execution_count": 2,
   "id": "899466d1",
   "metadata": {},
   "outputs": [],
   "source": [
    "from utils.helper import load_final_data\n",
    "import pandas as pd \n",
    "import numpy as np \n",
    "import pickle"
   ]
  },
  {
   "cell_type": "code",
   "execution_count": 104,
   "id": "3beb327f",
   "metadata": {},
   "outputs": [],
   "source": [
    "df=load_final_data()"
   ]
  },
  {
   "cell_type": "code",
   "execution_count": 105,
   "id": "e3947399",
   "metadata": {},
   "outputs": [
    {
     "data": {
      "text/plain": [
       "'swelling face'"
      ]
     },
     "execution_count": 105,
     "metadata": {},
     "output_type": "execute_result"
    }
   ],
   "source": [
    "df[df['drug_name']=='doxycycline'].symptom2[0]"
   ]
  },
  {
   "cell_type": "code",
   "execution_count": 106,
   "id": "ccbd2a06",
   "metadata": {},
   "outputs": [],
   "source": [
    "df['drug_name']=df['drug_name'].dropna(axis=0)"
   ]
  },
  {
   "cell_type": "code",
   "execution_count": 107,
   "id": "1d8a9c98",
   "metadata": {},
   "outputs": [],
   "source": [
    "df.dropna(subset=['drug_name'],inplace=True)"
   ]
  },
  {
   "cell_type": "code",
   "execution_count": 108,
   "id": "90a40960",
   "metadata": {},
   "outputs": [],
   "source": [
    "df.dropna(subset=['to_be_split'],inplace=True)"
   ]
  },
  {
   "cell_type": "code",
   "execution_count": 109,
   "id": "af6a95a9",
   "metadata": {},
   "outputs": [
    {
     "data": {
      "text/plain": [
       "Unnamed: 0.1       0\n",
       "Unnamed: 0         0\n",
       "drug_name          0\n",
       "to_be_split        0\n",
       "symptom1           0\n",
       "symptom2           0\n",
       "symptom3           2\n",
       "symptom4           8\n",
       "symptom5         234\n",
       "symptom6         361\n",
       "symptom7         458\n",
       "symptom8         542\n",
       "symptom9         631\n",
       "symptom10        726\n",
       "symptom11        839\n",
       "symptom12        928\n",
       "symptom13       1009\n",
       "symptom14       1054\n",
       "symptom15       1118\n",
       "dtype: int64"
      ]
     },
     "execution_count": 109,
     "metadata": {},
     "output_type": "execute_result"
    }
   ],
   "source": [
    "df.isnull().sum()"
   ]
  },
  {
   "cell_type": "code",
   "execution_count": 110,
   "id": "1643d51d",
   "metadata": {},
   "outputs": [],
   "source": [
    "df.fillna('o',inplace=True)"
   ]
  },
  {
   "cell_type": "code",
   "execution_count": 111,
   "id": "98fdad1d",
   "metadata": {},
   "outputs": [],
   "source": [
    "x=df.drop(['Unnamed: 0.1','Unnamed: 0','drug_name','to_be_split'],axis=1)\n",
    "y=df['drug_name']"
   ]
  },
  {
   "cell_type": "code",
   "execution_count": 84,
   "id": "486062b4",
   "metadata": {},
   "outputs": [],
   "source": [
    "from sklearn.preprocessing import LabelEncoder\n",
    "lb=LabelEncoder()"
   ]
  },
  {
   "cell_type": "code",
   "execution_count": 112,
   "id": "88bc27bf",
   "metadata": {},
   "outputs": [],
   "source": [
    "import numpy as np"
   ]
  },
  {
   "cell_type": "code",
   "execution_count": null,
   "id": "1548da55",
   "metadata": {},
   "outputs": [],
   "source": [
    "from sklearn.preprocessing import OrdinalEncoder\n",
    "\n",
    "ordinal_enc = OrdinalEncoder(handle_unknown='use_encoded_value', unknown_value=-1)\n",
    "x = ordinal_enc.fit_transform(x)\n"
   ]
  },
  {
   "cell_type": "code",
   "execution_count": 114,
   "id": "ec87dbf8",
   "metadata": {},
   "outputs": [],
   "source": [
    "with open('original_enc.pkl','wb')as file: \n",
    "    pickle.dump(ordinal_enc,file)"
   ]
  },
  {
   "cell_type": "code",
   "execution_count": 85,
   "id": "0f6fed0d",
   "metadata": {},
   "outputs": [],
   "source": [
    "for col in x.columns:\n",
    "    x[col]=x[col].astype(str)\n",
    "    x[col]=lb.fit_transform(x[col])"
   ]
  },
  {
   "cell_type": "code",
   "execution_count": 115,
   "id": "4b0f5972",
   "metadata": {},
   "outputs": [],
   "source": [
    "from sklearn.preprocessing import LabelEncoder\n",
    "pred_enc=LabelEncoder()\n",
    "y=pred_enc.fit_transform(y)"
   ]
  },
  {
   "cell_type": "code",
   "execution_count": 116,
   "id": "f2e0c654",
   "metadata": {},
   "outputs": [],
   "source": [
    "from sklearn.model_selection import train_test_split\n",
    "x_train,x_test,y_train,y_test=train_test_split(x,y,test_size=0.2,random_state=42)"
   ]
  },
  {
   "cell_type": "code",
   "execution_count": null,
   "id": "5a0fa42f",
   "metadata": {},
   "outputs": [],
   "source": [
    "# from sklearn.preprocessing import StandardScaler\n",
    "# scaler=StandardScaler()\n",
    "# x_train=scaler.fit_transform(x_train)\n",
    "# x_test=scaler.transform(x_test)"
   ]
  },
  {
   "cell_type": "code",
   "execution_count": 118,
   "id": "35b240df",
   "metadata": {},
   "outputs": [],
   "source": [
    "with open('pred_enc.pkl','wb') as file: \n",
    "    pickle.dump(pred_enc,file)"
   ]
  },
  {
   "cell_type": "code",
   "execution_count": 119,
   "id": "2b9f7e96",
   "metadata": {},
   "outputs": [],
   "source": [
    "from tensorflow.keras.models import Sequential\n",
    "from tensorflow.keras.layers import Dense"
   ]
  },
  {
   "cell_type": "code",
   "execution_count": 120,
   "id": "dc83cb82",
   "metadata": {},
   "outputs": [
    {
     "name": "stderr",
     "output_type": "stream",
     "text": [
      "d:\\Work\\Projects\\drug_recommender\\denv\\Lib\\site-packages\\keras\\src\\layers\\core\\dense.py:93: UserWarning: Do not pass an `input_shape`/`input_dim` argument to a layer. When using Sequential models, prefer using an `Input(shape)` object as the first layer in the model instead.\n",
      "  super().__init__(activity_regularizer=activity_regularizer, **kwargs)\n"
     ]
    }
   ],
   "source": [
    "# making a dl model \n",
    "model=Sequential([\n",
    "    Dense(128,activation='relu',input_shape=(x_train.shape[1],)),\n",
    "    Dense(64,activation='relu'),\n",
    "    Dense(32,activation='relu'),\n",
    "    Dense(16,activation='relu'),\n",
    "    Dense(1)\n",
    "])"
   ]
  },
  {
   "cell_type": "code",
   "execution_count": 124,
   "id": "ebb75129",
   "metadata": {},
   "outputs": [],
   "source": [
    "#compiling the model\n",
    "model.compile(optimizer='adam',loss='mean_absolute_error',metrics=['mse'])"
   ]
  },
  {
   "cell_type": "code",
   "execution_count": 122,
   "id": "241db133",
   "metadata": {},
   "outputs": [
    {
     "data": {
      "text/html": [
       "<pre style=\"white-space:pre;overflow-x:auto;line-height:normal;font-family:Menlo,'DejaVu Sans Mono',consolas,'Courier New',monospace\"><span style=\"font-weight: bold\">Model: \"sequential_1\"</span>\n",
       "</pre>\n"
      ],
      "text/plain": [
       "\u001b[1mModel: \"sequential_1\"\u001b[0m\n"
      ]
     },
     "metadata": {},
     "output_type": "display_data"
    },
    {
     "data": {
      "text/html": [
       "<pre style=\"white-space:pre;overflow-x:auto;line-height:normal;font-family:Menlo,'DejaVu Sans Mono',consolas,'Courier New',monospace\">┏━━━━━━━━━━━━━━━━━━━━━━━━━━━━━━━━━┳━━━━━━━━━━━━━━━━━━━━━━━━┳━━━━━━━━━━━━━━━┓\n",
       "┃<span style=\"font-weight: bold\"> Layer (type)                    </span>┃<span style=\"font-weight: bold\"> Output Shape           </span>┃<span style=\"font-weight: bold\">       Param # </span>┃\n",
       "┡━━━━━━━━━━━━━━━━━━━━━━━━━━━━━━━━━╇━━━━━━━━━━━━━━━━━━━━━━━━╇━━━━━━━━━━━━━━━┩\n",
       "│ dense_5 (<span style=\"color: #0087ff; text-decoration-color: #0087ff\">Dense</span>)                 │ (<span style=\"color: #00d7ff; text-decoration-color: #00d7ff\">None</span>, <span style=\"color: #00af00; text-decoration-color: #00af00\">128</span>)            │         <span style=\"color: #00af00; text-decoration-color: #00af00\">2,048</span> │\n",
       "├─────────────────────────────────┼────────────────────────┼───────────────┤\n",
       "│ dense_6 (<span style=\"color: #0087ff; text-decoration-color: #0087ff\">Dense</span>)                 │ (<span style=\"color: #00d7ff; text-decoration-color: #00d7ff\">None</span>, <span style=\"color: #00af00; text-decoration-color: #00af00\">64</span>)             │         <span style=\"color: #00af00; text-decoration-color: #00af00\">8,256</span> │\n",
       "├─────────────────────────────────┼────────────────────────┼───────────────┤\n",
       "│ dense_7 (<span style=\"color: #0087ff; text-decoration-color: #0087ff\">Dense</span>)                 │ (<span style=\"color: #00d7ff; text-decoration-color: #00d7ff\">None</span>, <span style=\"color: #00af00; text-decoration-color: #00af00\">32</span>)             │         <span style=\"color: #00af00; text-decoration-color: #00af00\">2,080</span> │\n",
       "├─────────────────────────────────┼────────────────────────┼───────────────┤\n",
       "│ dense_8 (<span style=\"color: #0087ff; text-decoration-color: #0087ff\">Dense</span>)                 │ (<span style=\"color: #00d7ff; text-decoration-color: #00d7ff\">None</span>, <span style=\"color: #00af00; text-decoration-color: #00af00\">16</span>)             │           <span style=\"color: #00af00; text-decoration-color: #00af00\">528</span> │\n",
       "├─────────────────────────────────┼────────────────────────┼───────────────┤\n",
       "│ dense_9 (<span style=\"color: #0087ff; text-decoration-color: #0087ff\">Dense</span>)                 │ (<span style=\"color: #00d7ff; text-decoration-color: #00d7ff\">None</span>, <span style=\"color: #00af00; text-decoration-color: #00af00\">1</span>)              │            <span style=\"color: #00af00; text-decoration-color: #00af00\">17</span> │\n",
       "└─────────────────────────────────┴────────────────────────┴───────────────┘\n",
       "</pre>\n"
      ],
      "text/plain": [
       "┏━━━━━━━━━━━━━━━━━━━━━━━━━━━━━━━━━┳━━━━━━━━━━━━━━━━━━━━━━━━┳━━━━━━━━━━━━━━━┓\n",
       "┃\u001b[1m \u001b[0m\u001b[1mLayer (type)                   \u001b[0m\u001b[1m \u001b[0m┃\u001b[1m \u001b[0m\u001b[1mOutput Shape          \u001b[0m\u001b[1m \u001b[0m┃\u001b[1m \u001b[0m\u001b[1m      Param #\u001b[0m\u001b[1m \u001b[0m┃\n",
       "┡━━━━━━━━━━━━━━━━━━━━━━━━━━━━━━━━━╇━━━━━━━━━━━━━━━━━━━━━━━━╇━━━━━━━━━━━━━━━┩\n",
       "│ dense_5 (\u001b[38;5;33mDense\u001b[0m)                 │ (\u001b[38;5;45mNone\u001b[0m, \u001b[38;5;34m128\u001b[0m)            │         \u001b[38;5;34m2,048\u001b[0m │\n",
       "├─────────────────────────────────┼────────────────────────┼───────────────┤\n",
       "│ dense_6 (\u001b[38;5;33mDense\u001b[0m)                 │ (\u001b[38;5;45mNone\u001b[0m, \u001b[38;5;34m64\u001b[0m)             │         \u001b[38;5;34m8,256\u001b[0m │\n",
       "├─────────────────────────────────┼────────────────────────┼───────────────┤\n",
       "│ dense_7 (\u001b[38;5;33mDense\u001b[0m)                 │ (\u001b[38;5;45mNone\u001b[0m, \u001b[38;5;34m32\u001b[0m)             │         \u001b[38;5;34m2,080\u001b[0m │\n",
       "├─────────────────────────────────┼────────────────────────┼───────────────┤\n",
       "│ dense_8 (\u001b[38;5;33mDense\u001b[0m)                 │ (\u001b[38;5;45mNone\u001b[0m, \u001b[38;5;34m16\u001b[0m)             │           \u001b[38;5;34m528\u001b[0m │\n",
       "├─────────────────────────────────┼────────────────────────┼───────────────┤\n",
       "│ dense_9 (\u001b[38;5;33mDense\u001b[0m)                 │ (\u001b[38;5;45mNone\u001b[0m, \u001b[38;5;34m1\u001b[0m)              │            \u001b[38;5;34m17\u001b[0m │\n",
       "└─────────────────────────────────┴────────────────────────┴───────────────┘\n"
      ]
     },
     "metadata": {},
     "output_type": "display_data"
    },
    {
     "data": {
      "text/html": [
       "<pre style=\"white-space:pre;overflow-x:auto;line-height:normal;font-family:Menlo,'DejaVu Sans Mono',consolas,'Courier New',monospace\"><span style=\"font-weight: bold\"> Total params: </span><span style=\"color: #00af00; text-decoration-color: #00af00\">12,929</span> (50.50 KB)\n",
       "</pre>\n"
      ],
      "text/plain": [
       "\u001b[1m Total params: \u001b[0m\u001b[38;5;34m12,929\u001b[0m (50.50 KB)\n"
      ]
     },
     "metadata": {},
     "output_type": "display_data"
    },
    {
     "data": {
      "text/html": [
       "<pre style=\"white-space:pre;overflow-x:auto;line-height:normal;font-family:Menlo,'DejaVu Sans Mono',consolas,'Courier New',monospace\"><span style=\"font-weight: bold\"> Trainable params: </span><span style=\"color: #00af00; text-decoration-color: #00af00\">12,929</span> (50.50 KB)\n",
       "</pre>\n"
      ],
      "text/plain": [
       "\u001b[1m Trainable params: \u001b[0m\u001b[38;5;34m12,929\u001b[0m (50.50 KB)\n"
      ]
     },
     "metadata": {},
     "output_type": "display_data"
    },
    {
     "data": {
      "text/html": [
       "<pre style=\"white-space:pre;overflow-x:auto;line-height:normal;font-family:Menlo,'DejaVu Sans Mono',consolas,'Courier New',monospace\"><span style=\"font-weight: bold\"> Non-trainable params: </span><span style=\"color: #00af00; text-decoration-color: #00af00\">0</span> (0.00 B)\n",
       "</pre>\n"
      ],
      "text/plain": [
       "\u001b[1m Non-trainable params: \u001b[0m\u001b[38;5;34m0\u001b[0m (0.00 B)\n"
      ]
     },
     "metadata": {},
     "output_type": "display_data"
    }
   ],
   "source": [
    "model.summary()"
   ]
  },
  {
   "cell_type": "code",
   "execution_count": 125,
   "id": "088be5e8",
   "metadata": {},
   "outputs": [],
   "source": [
    "from tensorflow.keras.callbacks import EarlyStopping"
   ]
  },
  {
   "cell_type": "code",
   "execution_count": 126,
   "id": "4659114d",
   "metadata": {},
   "outputs": [],
   "source": [
    "earlystopping=EarlyStopping(monitor='val_loss',patience=10,restore_best_weights=True)"
   ]
  },
  {
   "cell_type": "code",
   "execution_count": 127,
   "id": "e3fc0056",
   "metadata": {},
   "outputs": [
    {
     "name": "stdout",
     "output_type": "stream",
     "text": [
      "Epoch 1/100\n",
      "\u001b[1m71/71\u001b[0m \u001b[32m━━━━━━━━━━━━━━━━━━━━\u001b[0m\u001b[37m\u001b[0m \u001b[1m1s\u001b[0m 4ms/step - loss: 7.7870 - mse: 131.8074 - val_loss: 2.3963 - val_mse: 10.6309\n",
      "Epoch 2/100\n",
      "\u001b[1m71/71\u001b[0m \u001b[32m━━━━━━━━━━━━━━━━━━━━\u001b[0m\u001b[37m\u001b[0m \u001b[1m0s\u001b[0m 2ms/step - loss: 2.4455 - mse: 10.2306 - val_loss: 2.1118 - val_mse: 6.6282\n",
      "Epoch 3/100\n",
      "\u001b[1m71/71\u001b[0m \u001b[32m━━━━━━━━━━━━━━━━━━━━\u001b[0m\u001b[37m\u001b[0m \u001b[1m0s\u001b[0m 2ms/step - loss: 1.8726 - mse: 6.0377 - val_loss: 2.4721 - val_mse: 9.2111\n",
      "Epoch 4/100\n",
      "\u001b[1m71/71\u001b[0m \u001b[32m━━━━━━━━━━━━━━━━━━━━\u001b[0m\u001b[37m\u001b[0m \u001b[1m0s\u001b[0m 2ms/step - loss: 1.8144 - mse: 5.5505 - val_loss: 1.2343 - val_mse: 2.8703\n",
      "Epoch 5/100\n",
      "\u001b[1m71/71\u001b[0m \u001b[32m━━━━━━━━━━━━━━━━━━━━\u001b[0m\u001b[37m\u001b[0m \u001b[1m0s\u001b[0m 2ms/step - loss: 1.3945 - mse: 3.3067 - val_loss: 1.3783 - val_mse: 3.5128\n",
      "Epoch 6/100\n",
      "\u001b[1m71/71\u001b[0m \u001b[32m━━━━━━━━━━━━━━━━━━━━\u001b[0m\u001b[37m\u001b[0m \u001b[1m0s\u001b[0m 2ms/step - loss: 1.3614 - mse: 3.1602 - val_loss: 1.7039 - val_mse: 4.0220\n",
      "Epoch 7/100\n",
      "\u001b[1m71/71\u001b[0m \u001b[32m━━━━━━━━━━━━━━━━━━━━\u001b[0m\u001b[37m\u001b[0m \u001b[1m0s\u001b[0m 2ms/step - loss: 1.3149 - mse: 2.8900 - val_loss: 1.0419 - val_mse: 1.9077\n",
      "Epoch 8/100\n",
      "\u001b[1m71/71\u001b[0m \u001b[32m━━━━━━━━━━━━━━━━━━━━\u001b[0m\u001b[37m\u001b[0m \u001b[1m0s\u001b[0m 2ms/step - loss: 1.0095 - mse: 1.7692 - val_loss: 0.9867 - val_mse: 1.9272\n",
      "Epoch 9/100\n",
      "\u001b[1m71/71\u001b[0m \u001b[32m━━━━━━━━━━━━━━━━━━━━\u001b[0m\u001b[37m\u001b[0m \u001b[1m0s\u001b[0m 2ms/step - loss: 0.9680 - mse: 1.6554 - val_loss: 1.3124 - val_mse: 3.0047\n",
      "Epoch 10/100\n",
      "\u001b[1m71/71\u001b[0m \u001b[32m━━━━━━━━━━━━━━━━━━━━\u001b[0m\u001b[37m\u001b[0m \u001b[1m0s\u001b[0m 2ms/step - loss: 1.0683 - mse: 1.9697 - val_loss: 0.9633 - val_mse: 1.7921\n",
      "Epoch 11/100\n",
      "\u001b[1m71/71\u001b[0m \u001b[32m━━━━━━━━━━━━━━━━━━━━\u001b[0m\u001b[37m\u001b[0m \u001b[1m0s\u001b[0m 2ms/step - loss: 0.9171 - mse: 1.5188 - val_loss: 0.8937 - val_mse: 1.6814\n",
      "Epoch 12/100\n",
      "\u001b[1m71/71\u001b[0m \u001b[32m━━━━━━━━━━━━━━━━━━━━\u001b[0m\u001b[37m\u001b[0m \u001b[1m0s\u001b[0m 2ms/step - loss: 0.9531 - mse: 1.6950 - val_loss: 1.0100 - val_mse: 1.9022\n",
      "Epoch 13/100\n",
      "\u001b[1m71/71\u001b[0m \u001b[32m━━━━━━━━━━━━━━━━━━━━\u001b[0m\u001b[37m\u001b[0m \u001b[1m0s\u001b[0m 2ms/step - loss: 0.9216 - mse: 1.5602 - val_loss: 0.8865 - val_mse: 1.5659\n",
      "Epoch 14/100\n",
      "\u001b[1m71/71\u001b[0m \u001b[32m━━━━━━━━━━━━━━━━━━━━\u001b[0m\u001b[37m\u001b[0m \u001b[1m0s\u001b[0m 2ms/step - loss: 0.9042 - mse: 1.4044 - val_loss: 1.1981 - val_mse: 2.5352\n",
      "Epoch 15/100\n",
      "\u001b[1m71/71\u001b[0m \u001b[32m━━━━━━━━━━━━━━━━━━━━\u001b[0m\u001b[37m\u001b[0m \u001b[1m0s\u001b[0m 2ms/step - loss: 0.9672 - mse: 1.6439 - val_loss: 1.1193 - val_mse: 2.3350\n",
      "Epoch 16/100\n",
      "\u001b[1m71/71\u001b[0m \u001b[32m━━━━━━━━━━━━━━━━━━━━\u001b[0m\u001b[37m\u001b[0m \u001b[1m0s\u001b[0m 2ms/step - loss: 0.8784 - mse: 1.4249 - val_loss: 1.1343 - val_mse: 1.8967\n",
      "Epoch 17/100\n",
      "\u001b[1m71/71\u001b[0m \u001b[32m━━━━━━━━━━━━━━━━━━━━\u001b[0m\u001b[37m\u001b[0m \u001b[1m0s\u001b[0m 2ms/step - loss: 0.9004 - mse: 1.3887 - val_loss: 0.8681 - val_mse: 1.3985\n",
      "Epoch 18/100\n",
      "\u001b[1m71/71\u001b[0m \u001b[32m━━━━━━━━━━━━━━━━━━━━\u001b[0m\u001b[37m\u001b[0m \u001b[1m0s\u001b[0m 2ms/step - loss: 0.8598 - mse: 1.3439 - val_loss: 1.0968 - val_mse: 1.7612\n",
      "Epoch 19/100\n",
      "\u001b[1m71/71\u001b[0m \u001b[32m━━━━━━━━━━━━━━━━━━━━\u001b[0m\u001b[37m\u001b[0m \u001b[1m0s\u001b[0m 2ms/step - loss: 0.8251 - mse: 1.2313 - val_loss: 0.8573 - val_mse: 1.4530\n",
      "Epoch 20/100\n",
      "\u001b[1m71/71\u001b[0m \u001b[32m━━━━━━━━━━━━━━━━━━━━\u001b[0m\u001b[37m\u001b[0m \u001b[1m0s\u001b[0m 2ms/step - loss: 0.7967 - mse: 1.2636 - val_loss: 0.9089 - val_mse: 1.4203\n",
      "Epoch 21/100\n",
      "\u001b[1m71/71\u001b[0m \u001b[32m━━━━━━━━━━━━━━━━━━━━\u001b[0m\u001b[37m\u001b[0m \u001b[1m0s\u001b[0m 3ms/step - loss: 0.7970 - mse: 1.1750 - val_loss: 1.2559 - val_mse: 2.6545\n",
      "Epoch 22/100\n",
      "\u001b[1m71/71\u001b[0m \u001b[32m━━━━━━━━━━━━━━━━━━━━\u001b[0m\u001b[37m\u001b[0m \u001b[1m0s\u001b[0m 2ms/step - loss: 0.8819 - mse: 1.4144 - val_loss: 0.8541 - val_mse: 1.3862\n",
      "Epoch 23/100\n",
      "\u001b[1m71/71\u001b[0m \u001b[32m━━━━━━━━━━━━━━━━━━━━\u001b[0m\u001b[37m\u001b[0m \u001b[1m0s\u001b[0m 2ms/step - loss: 0.7889 - mse: 1.2153 - val_loss: 0.8931 - val_mse: 1.6581\n",
      "Epoch 24/100\n",
      "\u001b[1m71/71\u001b[0m \u001b[32m━━━━━━━━━━━━━━━━━━━━\u001b[0m\u001b[37m\u001b[0m \u001b[1m0s\u001b[0m 2ms/step - loss: 0.7602 - mse: 1.1445 - val_loss: 1.1957 - val_mse: 2.0076\n",
      "Epoch 25/100\n",
      "\u001b[1m71/71\u001b[0m \u001b[32m━━━━━━━━━━━━━━━━━━━━\u001b[0m\u001b[37m\u001b[0m \u001b[1m0s\u001b[0m 2ms/step - loss: 0.8071 - mse: 1.2161 - val_loss: 0.8434 - val_mse: 1.3321\n",
      "Epoch 26/100\n",
      "\u001b[1m71/71\u001b[0m \u001b[32m━━━━━━━━━━━━━━━━━━━━\u001b[0m\u001b[37m\u001b[0m \u001b[1m0s\u001b[0m 2ms/step - loss: 0.7697 - mse: 1.1750 - val_loss: 0.8225 - val_mse: 1.3042\n",
      "Epoch 27/100\n",
      "\u001b[1m71/71\u001b[0m \u001b[32m━━━━━━━━━━━━━━━━━━━━\u001b[0m\u001b[37m\u001b[0m \u001b[1m0s\u001b[0m 2ms/step - loss: 0.7703 - mse: 1.1669 - val_loss: 0.8669 - val_mse: 1.3847\n",
      "Epoch 28/100\n",
      "\u001b[1m71/71\u001b[0m \u001b[32m━━━━━━━━━━━━━━━━━━━━\u001b[0m\u001b[37m\u001b[0m \u001b[1m0s\u001b[0m 2ms/step - loss: 0.7524 - mse: 1.1279 - val_loss: 1.0811 - val_mse: 1.7557\n",
      "Epoch 29/100\n",
      "\u001b[1m71/71\u001b[0m \u001b[32m━━━━━━━━━━━━━━━━━━━━\u001b[0m\u001b[37m\u001b[0m \u001b[1m0s\u001b[0m 2ms/step - loss: 0.8588 - mse: 1.3551 - val_loss: 0.8402 - val_mse: 1.4525\n",
      "Epoch 30/100\n",
      "\u001b[1m71/71\u001b[0m \u001b[32m━━━━━━━━━━━━━━━━━━━━\u001b[0m\u001b[37m\u001b[0m \u001b[1m0s\u001b[0m 2ms/step - loss: 0.7455 - mse: 1.1018 - val_loss: 0.8270 - val_mse: 1.3407\n",
      "Epoch 31/100\n",
      "\u001b[1m71/71\u001b[0m \u001b[32m━━━━━━━━━━━━━━━━━━━━\u001b[0m\u001b[37m\u001b[0m \u001b[1m0s\u001b[0m 2ms/step - loss: 0.7344 - mse: 1.0623 - val_loss: 0.8412 - val_mse: 1.3263\n",
      "Epoch 32/100\n",
      "\u001b[1m71/71\u001b[0m \u001b[32m━━━━━━━━━━━━━━━━━━━━\u001b[0m\u001b[37m\u001b[0m \u001b[1m0s\u001b[0m 2ms/step - loss: 0.7620 - mse: 1.1016 - val_loss: 0.8503 - val_mse: 1.3183\n",
      "Epoch 33/100\n",
      "\u001b[1m71/71\u001b[0m \u001b[32m━━━━━━━━━━━━━━━━━━━━\u001b[0m\u001b[37m\u001b[0m \u001b[1m0s\u001b[0m 2ms/step - loss: 0.7164 - mse: 1.0195 - val_loss: 0.8741 - val_mse: 1.5874\n",
      "Epoch 34/100\n",
      "\u001b[1m71/71\u001b[0m \u001b[32m━━━━━━━━━━━━━━━━━━━━\u001b[0m\u001b[37m\u001b[0m \u001b[1m0s\u001b[0m 2ms/step - loss: 0.7981 - mse: 1.2071 - val_loss: 0.9134 - val_mse: 1.7014\n",
      "Epoch 35/100\n",
      "\u001b[1m71/71\u001b[0m \u001b[32m━━━━━━━━━━━━━━━━━━━━\u001b[0m\u001b[37m\u001b[0m \u001b[1m0s\u001b[0m 2ms/step - loss: 0.7223 - mse: 0.9700 - val_loss: 0.8187 - val_mse: 1.3293\n",
      "Epoch 36/100\n",
      "\u001b[1m71/71\u001b[0m \u001b[32m━━━━━━━━━━━━━━━━━━━━\u001b[0m\u001b[37m\u001b[0m \u001b[1m0s\u001b[0m 2ms/step - loss: 0.7194 - mse: 1.0381 - val_loss: 0.9077 - val_mse: 1.7486\n",
      "Epoch 37/100\n",
      "\u001b[1m71/71\u001b[0m \u001b[32m━━━━━━━━━━━━━━━━━━━━\u001b[0m\u001b[37m\u001b[0m \u001b[1m0s\u001b[0m 2ms/step - loss: 0.7431 - mse: 1.0461 - val_loss: 0.9249 - val_mse: 1.6970\n",
      "Epoch 38/100\n",
      "\u001b[1m71/71\u001b[0m \u001b[32m━━━━━━━━━━━━━━━━━━━━\u001b[0m\u001b[37m\u001b[0m \u001b[1m0s\u001b[0m 2ms/step - loss: 0.7439 - mse: 1.1395 - val_loss: 0.8084 - val_mse: 1.2872\n",
      "Epoch 39/100\n",
      "\u001b[1m71/71\u001b[0m \u001b[32m━━━━━━━━━━━━━━━━━━━━\u001b[0m\u001b[37m\u001b[0m \u001b[1m0s\u001b[0m 2ms/step - loss: 0.6698 - mse: 0.9454 - val_loss: 0.8373 - val_mse: 1.3247\n",
      "Epoch 40/100\n",
      "\u001b[1m71/71\u001b[0m \u001b[32m━━━━━━━━━━━━━━━━━━━━\u001b[0m\u001b[37m\u001b[0m \u001b[1m0s\u001b[0m 2ms/step - loss: 0.7449 - mse: 1.0573 - val_loss: 0.8142 - val_mse: 1.2831\n",
      "Epoch 41/100\n",
      "\u001b[1m71/71\u001b[0m \u001b[32m━━━━━━━━━━━━━━━━━━━━\u001b[0m\u001b[37m\u001b[0m \u001b[1m0s\u001b[0m 2ms/step - loss: 0.6963 - mse: 0.9634 - val_loss: 0.8575 - val_mse: 1.4603\n",
      "Epoch 42/100\n",
      "\u001b[1m71/71\u001b[0m \u001b[32m━━━━━━━━━━━━━━━━━━━━\u001b[0m\u001b[37m\u001b[0m \u001b[1m0s\u001b[0m 2ms/step - loss: 0.7477 - mse: 1.1439 - val_loss: 0.8500 - val_mse: 1.4208\n",
      "Epoch 43/100\n",
      "\u001b[1m71/71\u001b[0m \u001b[32m━━━━━━━━━━━━━━━━━━━━\u001b[0m\u001b[37m\u001b[0m \u001b[1m0s\u001b[0m 2ms/step - loss: 0.7117 - mse: 1.0309 - val_loss: 0.9320 - val_mse: 1.4066\n",
      "Epoch 44/100\n",
      "\u001b[1m71/71\u001b[0m \u001b[32m━━━━━━━━━━━━━━━━━━━━\u001b[0m\u001b[37m\u001b[0m \u001b[1m0s\u001b[0m 2ms/step - loss: 0.8145 - mse: 1.2139 - val_loss: 0.8387 - val_mse: 1.2689\n",
      "Epoch 45/100\n",
      "\u001b[1m71/71\u001b[0m \u001b[32m━━━━━━━━━━━━━━━━━━━━\u001b[0m\u001b[37m\u001b[0m \u001b[1m0s\u001b[0m 2ms/step - loss: 0.7654 - mse: 1.0708 - val_loss: 0.8695 - val_mse: 1.5918\n",
      "Epoch 46/100\n",
      "\u001b[1m71/71\u001b[0m \u001b[32m━━━━━━━━━━━━━━━━━━━━\u001b[0m\u001b[37m\u001b[0m \u001b[1m0s\u001b[0m 2ms/step - loss: 0.7639 - mse: 1.1857 - val_loss: 0.8263 - val_mse: 1.4296\n",
      "Epoch 47/100\n",
      "\u001b[1m71/71\u001b[0m \u001b[32m━━━━━━━━━━━━━━━━━━━━\u001b[0m\u001b[37m\u001b[0m \u001b[1m0s\u001b[0m 2ms/step - loss: 0.7307 - mse: 1.0610 - val_loss: 0.8877 - val_mse: 1.3253\n",
      "Epoch 48/100\n",
      "\u001b[1m71/71\u001b[0m \u001b[32m━━━━━━━━━━━━━━━━━━━━\u001b[0m\u001b[37m\u001b[0m \u001b[1m0s\u001b[0m 2ms/step - loss: 0.8706 - mse: 1.3329 - val_loss: 0.8941 - val_mse: 1.6720\n"
     ]
    },
    {
     "data": {
      "text/plain": [
       "<keras.src.callbacks.history.History at 0x1960b7f51c0>"
      ]
     },
     "execution_count": 127,
     "metadata": {},
     "output_type": "execute_result"
    }
   ],
   "source": [
    "# training the model\n",
    "model.fit(x_train,np.log1p(y_train),validation_data=(x_test,np.log1p(y_test)),epochs=100,callbacks=[earlystopping])"
   ]
  },
  {
   "cell_type": "code",
   "execution_count": 128,
   "id": "7abf56b1",
   "metadata": {},
   "outputs": [
    {
     "name": "stdout",
     "output_type": "stream",
     "text": [
      "\u001b[1m18/18\u001b[0m \u001b[32m━━━━━━━━━━━━━━━━━━━━\u001b[0m\u001b[37m\u001b[0m \u001b[1m0s\u001b[0m 3ms/step - loss: 0.8508 - mse: 1.4993 \n",
      "0.8083528876304626 1.2871676683425903\n"
     ]
    }
   ],
   "source": [
    "test_loss,test_mae=model.evaluate(x_test,np.log1p(y_test))\n",
    "print(test_loss,test_mae)"
   ]
  },
  {
   "cell_type": "code",
   "execution_count": 108,
   "id": "379dcfa9",
   "metadata": {},
   "outputs": [
    {
     "name": "stdout",
     "output_type": "stream",
     "text": [
      "Baseline MSE: 1.0036876777222494\n"
     ]
    }
   ],
   "source": [
    "# dummy model \n",
    "from sklearn.dummy import DummyRegressor\n",
    "from sklearn.metrics import mean_squared_error\n",
    "dummy = DummyRegressor(strategy='mean')\n",
    "dummy.fit(x_train, np.log1p(y_train))\n",
    "print(\"Baseline MSE:\", mean_squared_error(np.log1p(y_test), dummy.predict(x_test)))\n"
   ]
  },
  {
   "cell_type": "code",
   "execution_count": null,
   "id": "36b3adde",
   "metadata": {},
   "outputs": [],
   "source": [
    "import matplotlib.pyplot as plt"
   ]
  },
  {
   "cell_type": "code",
   "execution_count": 102,
   "id": "750c0b09",
   "metadata": {},
   "outputs": [
    {
     "data": {
      "text/plain": [
       "(0.0, 500.0)"
      ]
     },
     "execution_count": 102,
     "metadata": {},
     "output_type": "execute_result"
    },
    {
     "data": {
      "image/png": "[encoded data removed]",
      "text/plain": [
       "<Figure size 640x480 with 1 Axes>"
      ]
     },
     "metadata": {},
     "output_type": "display_data"
    }
   ],
   "source": [
    "plt.hist(np.log1p(y),bins=50)\n",
    "plt.ylim(0,500)"
   ]
  },
  {
   "cell_type": "code",
   "execution_count": 116,
   "id": "94fa7b84",
   "metadata": {},
   "outputs": [
    {
     "data": {
      "text/html": [
       "<div>\n",
       "<style scoped>\n",
       "    .dataframe tbody tr th:only-of-type {\n",
       "        vertical-align: middle;\n",
       "    }\n",
       "\n",
       "    .dataframe tbody tr th {\n",
       "        vertical-align: top;\n",
       "    }\n",
       "\n",
       "    .dataframe thead th {\n",
       "        text-align: right;\n",
       "    }\n",
       "</style>\n",
       "<table border=\"1\" class=\"dataframe\">\n",
       "  <thead>\n",
       "    <tr style=\"text-align: right;\">\n",
       "      <th></th>\n",
       "      <th>symptom1</th>\n",
       "      <th>symptom2</th>\n",
       "      <th>symptom3</th>\n",
       "      <th>symptom4</th>\n",
       "      <th>symptom5</th>\n",
       "      <th>symptom6</th>\n",
       "      <th>symptom7</th>\n",
       "      <th>symptom8</th>\n",
       "      <th>symptom9</th>\n",
       "      <th>symptom10</th>\n",
       "      <th>symptom11</th>\n",
       "      <th>symptom12</th>\n",
       "      <th>symptom13</th>\n",
       "      <th>symptom14</th>\n",
       "      <th>symptom15</th>\n",
       "    </tr>\n",
       "  </thead>\n",
       "  <tbody>\n",
       "    <tr>\n",
       "      <th>1593</th>\n",
       "      <td>38</td>\n",
       "      <td>175</td>\n",
       "      <td>106</td>\n",
       "      <td>296</td>\n",
       "      <td>287</td>\n",
       "      <td>437</td>\n",
       "      <td>208</td>\n",
       "      <td>321</td>\n",
       "      <td>328</td>\n",
       "      <td>328</td>\n",
       "      <td>338</td>\n",
       "      <td>323</td>\n",
       "      <td>332</td>\n",
       "      <td>309</td>\n",
       "      <td>297</td>\n",
       "    </tr>\n",
       "    <tr>\n",
       "      <th>2439</th>\n",
       "      <td>38</td>\n",
       "      <td>175</td>\n",
       "      <td>106</td>\n",
       "      <td>315</td>\n",
       "      <td>283</td>\n",
       "      <td>422</td>\n",
       "      <td>123</td>\n",
       "      <td>340</td>\n",
       "      <td>50</td>\n",
       "      <td>371</td>\n",
       "      <td>448</td>\n",
       "      <td>287</td>\n",
       "      <td>445</td>\n",
       "      <td>263</td>\n",
       "      <td>54</td>\n",
       "    </tr>\n",
       "    <tr>\n",
       "      <th>2473</th>\n",
       "      <td>37</td>\n",
       "      <td>175</td>\n",
       "      <td>106</td>\n",
       "      <td>390</td>\n",
       "      <td>546</td>\n",
       "      <td>436</td>\n",
       "      <td>156</td>\n",
       "      <td>204</td>\n",
       "      <td>328</td>\n",
       "      <td>328</td>\n",
       "      <td>338</td>\n",
       "      <td>323</td>\n",
       "      <td>332</td>\n",
       "      <td>309</td>\n",
       "      <td>297</td>\n",
       "    </tr>\n",
       "    <tr>\n",
       "      <th>1537</th>\n",
       "      <td>8</td>\n",
       "      <td>44</td>\n",
       "      <td>110</td>\n",
       "      <td>433</td>\n",
       "      <td>23</td>\n",
       "      <td>183</td>\n",
       "      <td>377</td>\n",
       "      <td>285</td>\n",
       "      <td>292</td>\n",
       "      <td>427</td>\n",
       "      <td>301</td>\n",
       "      <td>45</td>\n",
       "      <td>64</td>\n",
       "      <td>289</td>\n",
       "      <td>203</td>\n",
       "    </tr>\n",
       "    <tr>\n",
       "      <th>1128</th>\n",
       "      <td>37</td>\n",
       "      <td>175</td>\n",
       "      <td>106</td>\n",
       "      <td>228</td>\n",
       "      <td>117</td>\n",
       "      <td>578</td>\n",
       "      <td>135</td>\n",
       "      <td>123</td>\n",
       "      <td>328</td>\n",
       "      <td>328</td>\n",
       "      <td>338</td>\n",
       "      <td>323</td>\n",
       "      <td>332</td>\n",
       "      <td>309</td>\n",
       "      <td>297</td>\n",
       "    </tr>\n",
       "    <tr>\n",
       "      <th>...</th>\n",
       "      <td>...</td>\n",
       "      <td>...</td>\n",
       "      <td>...</td>\n",
       "      <td>...</td>\n",
       "      <td>...</td>\n",
       "      <td>...</td>\n",
       "      <td>...</td>\n",
       "      <td>...</td>\n",
       "      <td>...</td>\n",
       "      <td>...</td>\n",
       "      <td>...</td>\n",
       "      <td>...</td>\n",
       "      <td>...</td>\n",
       "      <td>...</td>\n",
       "      <td>...</td>\n",
       "    </tr>\n",
       "    <tr>\n",
       "      <th>2616</th>\n",
       "      <td>38</td>\n",
       "      <td>175</td>\n",
       "      <td>106</td>\n",
       "      <td>247</td>\n",
       "      <td>369</td>\n",
       "      <td>241</td>\n",
       "      <td>363</td>\n",
       "      <td>119</td>\n",
       "      <td>363</td>\n",
       "      <td>240</td>\n",
       "      <td>338</td>\n",
       "      <td>323</td>\n",
       "      <td>332</td>\n",
       "      <td>309</td>\n",
       "      <td>297</td>\n",
       "    </tr>\n",
       "    <tr>\n",
       "      <th>1028</th>\n",
       "      <td>189</td>\n",
       "      <td>3</td>\n",
       "      <td>170</td>\n",
       "      <td>132</td>\n",
       "      <td>255</td>\n",
       "      <td>427</td>\n",
       "      <td>452</td>\n",
       "      <td>480</td>\n",
       "      <td>486</td>\n",
       "      <td>183</td>\n",
       "      <td>234</td>\n",
       "      <td>41</td>\n",
       "      <td>428</td>\n",
       "      <td>281</td>\n",
       "      <td>38</td>\n",
       "    </tr>\n",
       "    <tr>\n",
       "      <th>2539</th>\n",
       "      <td>159</td>\n",
       "      <td>167</td>\n",
       "      <td>192</td>\n",
       "      <td>28</td>\n",
       "      <td>145</td>\n",
       "      <td>490</td>\n",
       "      <td>326</td>\n",
       "      <td>459</td>\n",
       "      <td>280</td>\n",
       "      <td>266</td>\n",
       "      <td>460</td>\n",
       "      <td>283</td>\n",
       "      <td>300</td>\n",
       "      <td>309</td>\n",
       "      <td>297</td>\n",
       "    </tr>\n",
       "    <tr>\n",
       "      <th>2264</th>\n",
       "      <td>189</td>\n",
       "      <td>3</td>\n",
       "      <td>170</td>\n",
       "      <td>132</td>\n",
       "      <td>255</td>\n",
       "      <td>427</td>\n",
       "      <td>452</td>\n",
       "      <td>480</td>\n",
       "      <td>486</td>\n",
       "      <td>183</td>\n",
       "      <td>234</td>\n",
       "      <td>41</td>\n",
       "      <td>428</td>\n",
       "      <td>281</td>\n",
       "      <td>38</td>\n",
       "    </tr>\n",
       "    <tr>\n",
       "      <th>1127</th>\n",
       "      <td>37</td>\n",
       "      <td>175</td>\n",
       "      <td>106</td>\n",
       "      <td>373</td>\n",
       "      <td>133</td>\n",
       "      <td>334</td>\n",
       "      <td>521</td>\n",
       "      <td>403</td>\n",
       "      <td>6</td>\n",
       "      <td>201</td>\n",
       "      <td>350</td>\n",
       "      <td>172</td>\n",
       "      <td>381</td>\n",
       "      <td>518</td>\n",
       "      <td>69</td>\n",
       "    </tr>\n",
       "  </tbody>\n",
       "</table>\n",
       "<p>562 rows × 15 columns</p>\n",
       "</div>"
      ],
      "text/plain": [
       "      symptom1  symptom2  symptom3  symptom4  symptom5  symptom6  symptom7  \\\n",
       "1593        38       175       106       296       287       437       208   \n",
       "2439        38       175       106       315       283       422       123   \n",
       "2473        37       175       106       390       546       436       156   \n",
       "1537         8        44       110       433        23       183       377   \n",
       "1128        37       175       106       228       117       578       135   \n",
       "...        ...       ...       ...       ...       ...       ...       ...   \n",
       "2616        38       175       106       247       369       241       363   \n",
       "1028       189         3       170       132       255       427       452   \n",
       "2539       159       167       192        28       145       490       326   \n",
       "2264       189         3       170       132       255       427       452   \n",
       "1127        37       175       106       373       133       334       521   \n",
       "\n",
       "      symptom8  symptom9  symptom10  symptom11  symptom12  symptom13  \\\n",
       "1593       321       328        328        338        323        332   \n",
       "2439       340        50        371        448        287        445   \n",
       "2473       204       328        328        338        323        332   \n",
       "1537       285       292        427        301         45         64   \n",
       "1128       123       328        328        338        323        332   \n",
       "...        ...       ...        ...        ...        ...        ...   \n",
       "2616       119       363        240        338        323        332   \n",
       "1028       480       486        183        234         41        428   \n",
       "2539       459       280        266        460        283        300   \n",
       "2264       480       486        183        234         41        428   \n",
       "1127       403         6        201        350        172        381   \n",
       "\n",
       "      symptom14  symptom15  \n",
       "1593        309        297  \n",
       "2439        263         54  \n",
       "2473        309        297  \n",
       "1537        289        203  \n",
       "1128        309        297  \n",
       "...         ...        ...  \n",
       "2616        309        297  \n",
       "1028        281         38  \n",
       "2539        309        297  \n",
       "2264        281         38  \n",
       "1127        518         69  \n",
       "\n",
       "[562 rows x 15 columns]"
      ]
     },
     "execution_count": 116,
     "metadata": {},
     "output_type": "execute_result"
    }
   ],
   "source": [
    "x_test"
   ]
  },
  {
   "cell_type": "code",
   "execution_count": 133,
   "id": "94ab516c",
   "metadata": {},
   "outputs": [
    {
     "name": "stdout",
     "output_type": "stream",
     "text": [
      "\u001b[1m1/1\u001b[0m \u001b[32m━━━━━━━━━━━━━━━━━━━━\u001b[0m\u001b[37m\u001b[0m \u001b[1m0s\u001b[0m 30ms/step\n"
     ]
    },
    {
     "data": {
      "text/plain": [
       "array([[5.5766726]], dtype=float32)"
      ]
     },
     "execution_count": 133,
     "metadata": {},
     "output_type": "execute_result"
    }
   ],
   "source": [
    "model.predict(np.array([[38,175,106,-1,287,-1,208,321,328,-1,338,323,332,309,-1]]))"
   ]
  },
  {
   "cell_type": "code",
   "execution_count": 135,
   "id": "0d380aca",
   "metadata": {},
   "outputs": [
    {
     "data": {
      "text/plain": [
       "258.8228363229507"
      ]
     },
     "execution_count": 135,
     "metadata": {},
     "output_type": "execute_result"
    }
   ],
   "source": [
    "np.expm1(5.56)"
   ]
  },
  {
   "cell_type": "code",
   "execution_count": 137,
   "id": "7f325f18",
   "metadata": {},
   "outputs": [
    {
     "data": {
      "text/plain": [
       "array(['mometasone'], dtype=object)"
      ]
     },
     "execution_count": 137,
     "metadata": {},
     "output_type": "execute_result"
    }
   ],
   "source": [
    "pred_enc.inverse_transform([2541])"
   ]
  },
  {
   "cell_type": "code",
   "execution_count": 138,
   "id": "dda00fc3",
   "metadata": {},
   "outputs": [
    {
     "name": "stderr",
     "output_type": "stream",
     "text": [
      "WARNING:absl:You are saving your model as an HDF5 file via `model.save()` or `keras.saving.save_model(model)`. This file format is considered legacy. We recommend using instead the native Keras format, e.g. `model.save('my_model.keras')` or `keras.saving.save_model(model, 'my_model.keras')`. \n"
     ]
    }
   ],
   "source": [
    "model.save('pred_model.h5')"
   ]
  },
  {
   "cell_type": "code",
   "execution_count": 125,
   "id": "3016554f",
   "metadata": {},
   "outputs": [],
   "source": [
    "model.save('keras_format.keras')"
   ]
  },
  {
   "cell_type": "code",
   "execution_count": 1,
   "id": "58259647",
   "metadata": {},
   "outputs": [],
   "source": [
    "import pickle"
   ]
  },
  {
   "cell_type": "code",
   "execution_count": 3,
   "id": "4fc4caa0",
   "metadata": {},
   "outputs": [],
   "source": [
    "lst=[]\n",
    "for i in range(15):\n",
    "    lst.append(f'symptom{i+1}')"
   ]
  },
  {
   "cell_type": "code",
   "execution_count": 4,
   "id": "664ae78a",
   "metadata": {},
   "outputs": [],
   "source": [
    "from utils.helper import split_symptoms\n",
    "inp=split_symptoms('difficult breathing swelling face throat severe skin reaction fever sore throat burning eyes skin pain red purple skin rash spreads causes blistering peeling')"
   ]
  },
  {
   "cell_type": "code",
   "execution_count": 5,
   "id": "de350744",
   "metadata": {},
   "outputs": [],
   "source": [
    "from utils.helper import load_model\n",
    "ob=load_model('D:/Work/Projects/drug_recommender/final_models/original_enc.pkl')"
   ]
  },
  {
   "cell_type": "code",
   "execution_count": 6,
   "id": "e0b621c2",
   "metadata": {},
   "outputs": [
    {
     "name": "stderr",
     "output_type": "stream",
     "text": [
      "d:\\work\\projects\\drug_recommender\\utils\\helper.py:12: SyntaxWarning: invalid escape sequence '\\W'\n",
      "  return pd.read_csv(\"D:\\Work\\Projects\\drug_recommender\\src\\Data\\cleaned_training_data.csv\")\n",
      "d:\\work\\projects\\drug_recommender\\utils\\helper.py:15: SyntaxWarning: invalid escape sequence '\\W'\n",
      "  return pd.read_csv(\"D:\\Work\\Projects\\drug_recommender\\src\\Data\\data.csv\")\n",
      "d:\\work\\projects\\drug_recommender\\utils\\helper.py:26: SyntaxWarning: invalid escape sequence '\\W'\n",
      "  return pd.read_csv('D:\\Work\\Projects\\drug_recommender\\src\\Data\\model_data.csv')\n"
     ]
    },
    {
     "ename": "UnpicklingError",
     "evalue": "invalid load key, 'H'.",
     "output_type": "error",
     "traceback": [
      "\u001b[1;31m---------------------------------------------------------------------------\u001b[0m",
      "\u001b[1;31mUnpicklingError\u001b[0m                           Traceback (most recent call last)",
      "Cell \u001b[1;32mIn[6], line 1\u001b[0m\n\u001b[1;32m----> 1\u001b[0m model\u001b[38;5;241m=\u001b[39m\u001b[43mload_model\u001b[49m\u001b[43m(\u001b[49m\u001b[38;5;124;43m'\u001b[39;49m\u001b[38;5;124;43mD:/Work/Projects/drug_recommender/final_models/pred_model.h5\u001b[39;49m\u001b[38;5;124;43m'\u001b[39;49m\u001b[43m)\u001b[49m\n",
      "File \u001b[1;32md:\\work\\projects\\drug_recommender\\utils\\helper.py:9\u001b[0m, in \u001b[0;36mload_model\u001b[1;34m(path)\u001b[0m\n\u001b[0;32m      7\u001b[0m \u001b[38;5;28;01mdef\u001b[39;00m \u001b[38;5;21mload_model\u001b[39m(path:\u001b[38;5;28mstr\u001b[39m):\n\u001b[0;32m      8\u001b[0m     \u001b[38;5;28;01mwith\u001b[39;00m \u001b[38;5;28mopen\u001b[39m(path,\u001b[38;5;124m'\u001b[39m\u001b[38;5;124mrb\u001b[39m\u001b[38;5;124m'\u001b[39m) \u001b[38;5;28;01mas\u001b[39;00m file: \n\u001b[1;32m----> 9\u001b[0m         \u001b[38;5;28;01mreturn\u001b[39;00m \u001b[43mpickle\u001b[49m\u001b[38;5;241;43m.\u001b[39;49m\u001b[43mload\u001b[49m\u001b[43m(\u001b[49m\u001b[43mfile\u001b[49m\u001b[43m)\u001b[49m\n",
      "\u001b[1;31mUnpicklingError\u001b[0m: invalid load key, 'H'."
     ]
    }
   ],
   "source": [
    "model=load_model('D:/Work/Projects/drug_recommender/final_models/pred_model.h5')"
   ]
  },
  {
   "cell_type": "code",
   "execution_count": 7,
   "id": "19668dd7",
   "metadata": {},
   "outputs": [],
   "source": [
    "from Data_transformation.data_transformation import data_transform,convert_into_numberic\n",
    "from prediction_pipeline.pred_pipline import predict_drug,inverse_label"
   ]
  },
  {
   "cell_type": "code",
   "execution_count": 8,
   "id": "29ab60bb",
   "metadata": {},
   "outputs": [
    {
     "name": "stderr",
     "output_type": "stream",
     "text": [
      "d:\\Work\\Projects\\drug_recommender\\denv\\Lib\\site-packages\\sklearn\\utils\\validation.py:2749: UserWarning: X does not have valid feature names, but OrdinalEncoder was fitted with feature names\n",
      "  warnings.warn(\n"
     ]
    },
    {
     "name": "stdout",
     "output_type": "stream",
     "text": [
      "\u001b[1m1/1\u001b[0m \u001b[32m━━━━━━━━━━━━━━━━━━━━\u001b[0m\u001b[37m\u001b[0m \u001b[1m0s\u001b[0m 285ms/step\n"
     ]
    }
   ],
   "source": [
    "transform_in=data_transform('difficult breathing swelling face throat severe skin reaction fever sore throat burning eyes skin pain red purple skin rash spreads causes blistering peeling')\n",
    "numeric_in=convert_into_numberic(transform_in)\n",
    "# predicting drug\n",
    "num_pred=predict_drug(numeric_in)"
   ]
  },
  {
   "cell_type": "code",
   "execution_count": 10,
   "id": "3f851fd2",
   "metadata": {},
   "outputs": [
    {
     "data": {
      "text/plain": [
       "array(['Cetafen'], dtype=object)"
      ]
     },
     "execution_count": 10,
     "metadata": {},
     "output_type": "execute_result"
    }
   ],
   "source": [
    "final_pred=inverse_label(num_pred)\n",
    "final_pred"
   ]
  },
  {
   "cell_type": "code",
   "execution_count": null,
   "id": "9109483a",
   "metadata": {},
   "outputs": [],
   "source": [
    "final"
   ]
  },
  {
   "cell_type": "code",
   "execution_count": 11,
   "id": "55efc9d2",
   "metadata": {},
   "outputs": [],
   "source": [
    "from utils.helper import load_output_data\n",
    "df_0=load_output_data()"
   ]
  },
  {
   "cell_type": "code",
   "execution_count": 12,
   "id": "789a2807",
   "metadata": {},
   "outputs": [
    {
     "data": {
      "text/plain": [
       "'acetaminophen (oral route, rectal route)'"
      ]
     },
     "execution_count": 12,
     "metadata": {},
     "output_type": "execute_result"
    }
   ],
   "source": [
    "df_0[df_0['drug_name']==final_pred[0]]['generic_name'].values[0]"
   ]
  }
 ],
 "metadata": {
  "kernelspec": {
   "display_name": "Python 3",
   "language": "python",
   "name": "python3"
  },
  "language_info": {
   "codemirror_mode": {
    "name": "ipython",
    "version": 3
   },
   "file_extension": ".py",
   "mimetype": "text/x-python",
   "name": "python",
   "nbconvert_exporter": "python",
   "pygments_lexer": "ipython3",
   "version": "3.12.4"
  }
 },
 "nbformat": 4,
 "nbformat_minor": 5
}
